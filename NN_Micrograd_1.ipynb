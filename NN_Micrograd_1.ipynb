{
  "nbformat": 4,
  "nbformat_minor": 0,
  "metadata": {
    "colab": {
      "provenance": [],
      "authorship_tag": "ABX9TyPTvVxBd3Dyj6jCJ+Bt+gvh",
      "include_colab_link": true
    },
    "kernelspec": {
      "name": "python3",
      "display_name": "Python 3"
    },
    "language_info": {
      "name": "python"
    }
  },
  "cells": [
    {
      "cell_type": "markdown",
      "metadata": {
        "id": "view-in-github",
        "colab_type": "text"
      },
      "source": [
        "<a href=\"https://colab.research.google.com/github/ashikshafi08/Learning_Pytorch/blob/main/NN_Micrograd_1.ipynb\" target=\"_parent\"><img src=\"https://colab.research.google.com/assets/colab-badge.svg\" alt=\"Open In Colab\"/></a>"
      ]
    },
    {
      "cell_type": "code",
      "execution_count": 1,
      "metadata": {
        "id": "vLOttDnb7P4-"
      },
      "outputs": [],
      "source": [
        "import torch \n",
        "import numpy as np \n",
        "import math \n",
        "import matplotlib.pyplot as plt "
      ]
    },
    {
      "cell_type": "markdown",
      "source": [
        "Understanding the Micrograd from fundamental level.  \n",
        "\n",
        "https://github.com/karpathy/micrograd"
      ],
      "metadata": {
        "id": "PuF4rNuS7VKh"
      }
    },
    {
      "cell_type": "code",
      "source": [
        "# Scalar value function \n",
        "def f(x):\n",
        "  return 3*x**2 - 4*x + 5 \n"
      ],
      "metadata": {
        "id": "9bU-k0ow-FZV"
      },
      "execution_count": 2,
      "outputs": []
    },
    {
      "cell_type": "code",
      "source": [
        "f(3.0)"
      ],
      "metadata": {
        "colab": {
          "base_uri": "https://localhost:8080/"
        },
        "id": "w2Wwk4U7-0WW",
        "outputId": "d93d9876-e475-4600-a06d-7a1970e2128a"
      },
      "execution_count": 3,
      "outputs": [
        {
          "output_type": "execute_result",
          "data": {
            "text/plain": [
              "20.0"
            ]
          },
          "metadata": {},
          "execution_count": 3
        }
      ]
    },
    {
      "cell_type": "code",
      "source": [
        "# Plotting the function \n",
        "xs = np.arange(-5 , 5 , 0.25) # range of values for the function \n",
        "ys = f(xs)\n",
        "\n",
        "\n",
        "plt.plot(xs , ys ); # a parabola"
      ],
      "metadata": {
        "colab": {
          "base_uri": "https://localhost:8080/",
          "height": 265
        },
        "id": "J7NRYNnJ-3Tz",
        "outputId": "7f672194-d650-42d1-abdc-b4ac979c1261"
      },
      "execution_count": 4,
      "outputs": [
        {
          "output_type": "display_data",
          "data": {
            "text/plain": [
              "<Figure size 432x288 with 1 Axes>"
            ],
            "image/png": "[encoded data removed]"
          },
          "metadata": {
            "needs_background": "light"
          }
        }
      ]
    },
    {
      "cell_type": "markdown",
      "source": [
        "What is the derivative of this function at any point of x / different value of x? "
      ],
      "metadata": {
        "id": "hqaeUXdm-9yx"
      }
    },
    {
      "cell_type": "markdown",
      "source": [
        "\n",
        "\\begin{align}\n",
        "{\\displaystyle L=\\lim _{h\\to 0}{\\frac {f(a+h)-f(a)}{h}}}\n",
        "\\end{align}\n",
        "\n",
        "\n",
        "If we bump up the h, how the function responds and what sensitivity does it respond? Whats the slope? Does it go up or down? \n"
      ],
      "metadata": {
        "id": "xh7cr6pu_YWf"
      }
    },
    {
      "cell_type": "code",
      "source": [
        "# Taking the small h \n",
        "h = 0.001\n",
        "x = 3.0 \n",
        "f(x)"
      ],
      "metadata": {
        "colab": {
          "base_uri": "https://localhost:8080/"
        },
        "id": "oPy4CH8w_59d",
        "outputId": "c788edbc-5111-40ec-8437-b1c56607dfba"
      },
      "execution_count": 5,
      "outputs": [
        {
          "output_type": "execute_result",
          "data": {
            "text/plain": [
              "20.0"
            ]
          },
          "metadata": {},
          "execution_count": 5
        }
      ]
    },
    {
      "cell_type": "code",
      "source": [
        "# With h \n",
        "f(x + h)"
      ],
      "metadata": {
        "colab": {
          "base_uri": "https://localhost:8080/"
        },
        "id": "Nv9joQWIAhLe",
        "outputId": "94c908ea-1f73-4287-cfb6-126fd4eec389"
      },
      "execution_count": 6,
      "outputs": [
        {
          "output_type": "execute_result",
          "data": {
            "text/plain": [
              "20.014003000000002"
            ]
          },
          "metadata": {},
          "execution_count": 6
        }
      ]
    },
    {
      "cell_type": "markdown",
      "source": [
        "Here we go positively so the function goes +ve. So the slope is also greater than 20. \n",
        "\n",
        "Now we will calculate the strength or the size of the slope. "
      ],
      "metadata": {
        "id": "TG-NcJMhAkFS"
      }
    },
    {
      "cell_type": "code",
      "source": [
        "# change of value in a positive direction \n",
        "f(x + h) - f(x) # how much the function responded "
      ],
      "metadata": {
        "colab": {
          "base_uri": "https://localhost:8080/"
        },
        "id": "cL6gJJJ8Az45",
        "outputId": "ea45a5b2-4d4f-43d5-8923-b815709c7655"
      },
      "execution_count": 7,
      "outputs": [
        {
          "output_type": "execute_result",
          "data": {
            "text/plain": [
              "0.01400300000000243"
            ]
          },
          "metadata": {},
          "execution_count": 7
        }
      ]
    },
    {
      "cell_type": "code",
      "source": [
        "# To get the slope we normalize the rise over run \n",
        "h = 0.000000001\n",
        "x= 3.0\n",
        "(f(x+h) - f(x)) / h "
      ],
      "metadata": {
        "colab": {
          "base_uri": "https://localhost:8080/"
        },
        "id": "-YZiUlxsBAWo",
        "outputId": "075e811a-9b93-4976-de9e-6b1c184fe2da"
      },
      "execution_count": 8,
      "outputs": [
        {
          "output_type": "execute_result",
          "data": {
            "text/plain": [
              "14.000001158365194"
            ]
          },
          "metadata": {},
          "execution_count": 8
        }
      ]
    },
    {
      "cell_type": "markdown",
      "source": [
        "At `x = 3.0` the slope is `14.000001158365194`\n",
        "\n",
        "Now when `x = -3.0` what will be the slope? "
      ],
      "metadata": {
        "id": "zhQe41lPBQRV"
      }
    },
    {
      "cell_type": "code",
      "source": [
        "h = 0.000000001\n",
        "x= -3.0\n",
        "(f(x+h) - f(x)) / h "
      ],
      "metadata": {
        "colab": {
          "base_uri": "https://localhost:8080/"
        },
        "id": "Nry6By8QBhMz",
        "outputId": "c5900e09-ebed-4a84-d054-d1a62fc5da69"
      },
      "execution_count": 9,
      "outputs": [
        {
          "output_type": "execute_result",
          "data": {
            "text/plain": [
              "-22.000001820288162"
            ]
          },
          "metadata": {},
          "execution_count": 9
        }
      ]
    },
    {
      "cell_type": "markdown",
      "source": [
        "We get a negative slope as the function goes down that is below 20 which we had before. \n",
        "\n",
        "At some point the slope will be 0. "
      ],
      "metadata": {
        "id": "UdIO2X6oBtUj"
      }
    },
    {
      "cell_type": "code",
      "source": [
        "# Slope will be zero when, \n",
        "h = 0.000000001\n",
        "x= 2/3 # when 2/3\n",
        "(f(x+h) - f(x)) / h "
      ],
      "metadata": {
        "colab": {
          "base_uri": "https://localhost:8080/"
        },
        "id": "RvSeSWD0CCKK",
        "outputId": "ad11aa4d-05f7-49e3-a33b-a0f90616762b"
      },
      "execution_count": 10,
      "outputs": [
        {
          "output_type": "execute_result",
          "data": {
            "text/plain": [
              "0.0"
            ]
          },
          "metadata": {},
          "execution_count": 10
        }
      ]
    },
    {
      "cell_type": "markdown",
      "source": [
        "At this precise point `2/3` the derivative will be zero. This means if nudge the function with the precise point of `h` it wont responsd and stays the same and thats why the slope is zero. "
      ],
      "metadata": {
        "id": "BQwUj0lSCFp6"
      }
    },
    {
      "cell_type": "markdown",
      "source": [
        "**Getting Complex**"
      ],
      "metadata": {
        "id": "UYB7XxrPCM9k"
      }
    },
    {
      "cell_type": "code",
      "source": [
        "a = 2.0 \n",
        "b = -3.0 \n",
        "c = 10.0\n",
        "\n",
        "d = a*b + c\n",
        "print(d)"
      ],
      "metadata": {
        "colab": {
          "base_uri": "https://localhost:8080/"
        },
        "id": "v5Gh5pMOCnmZ",
        "outputId": "4d3e6f77-d0d9-4035-ee68-27d3a4598085"
      },
      "execution_count": 11,
      "outputs": [
        {
          "output_type": "stream",
          "name": "stdout",
          "text": [
            "4.0\n"
          ]
        }
      ]
    },
    {
      "cell_type": "markdown",
      "source": [
        "Lets check the derivative of function `d` with respect to a, b and c."
      ],
      "metadata": {
        "id": "qUqXcdg8CuEu"
      }
    },
    {
      "cell_type": "code",
      "source": [
        "h = 0.001 \n",
        "\n",
        "# Inputs \n",
        "a = 2.0 \n",
        "b = -3.0 \n",
        "c = 10.0\n",
        "\n",
        "d1 = a*b + c"
      ],
      "metadata": {
        "id": "-IOUjJnyDjGl"
      },
      "execution_count": 12,
      "outputs": []
    },
    {
      "cell_type": "code",
      "source": [
        "# bump a by h \n",
        "a += h\n",
        "\n",
        "d2 = a*b + c \n",
        "print(\"d1: \", d1)\n",
        "print(\"d2: \", d2)\n"
      ],
      "metadata": {
        "colab": {
          "base_uri": "https://localhost:8080/"
        },
        "id": "N_mBFHArDw4n",
        "outputId": "5092f2b8-91ae-41fa-f970-f40a8437c44e"
      },
      "execution_count": 13,
      "outputs": [
        {
          "output_type": "stream",
          "name": "stdout",
          "text": [
            "d1:  4.0\n",
            "d2:  3.997\n"
          ]
        }
      ]
    },
    {
      "cell_type": "markdown",
      "source": [
        "`d2-d1` is how much the function increased when we bumped the value of a by a tiny amount and `h` is the normalizer to get the slope. "
      ],
      "metadata": {
        "id": "Jfe5y-XrEJYi"
      }
    },
    {
      "cell_type": "code",
      "source": [
        "print('slope: ', (d2 - d1)/h) "
      ],
      "metadata": {
        "colab": {
          "base_uri": "https://localhost:8080/"
        },
        "id": "f5N3qimgD5o6",
        "outputId": "1e1f6968-6618-42a7-d3a1-d910ad25727c"
      },
      "execution_count": 14,
      "outputs": [
        {
          "output_type": "stream",
          "name": "stdout",
          "text": [
            "slope:  -3.0000000000001137\n"
          ]
        }
      ]
    },
    {
      "cell_type": "markdown",
      "source": [
        "If we differentiate `a*b + c` w.r.t `a` then we will get b + c and here the value of b is -3. Thats the slope. \n",
        "\n",
        "If we bump `b` in a positive direction we get a different slope. "
      ],
      "metadata": {
        "id": "KBWIxZt5EyoH"
      }
    },
    {
      "cell_type": "code",
      "source": [
        "# Bumping the b\n",
        "h = 0.001 \n",
        "\n",
        "# Inputs \n",
        "a = 2.0 \n",
        "b = -3.0 \n",
        "c = 10.0\n",
        "\n",
        "d1 = a*b + c\n",
        "b += h\n",
        "d2 = a*b + c \n",
        "\n",
        "print(\"d1: \", d1)\n",
        "print(\"d2: \", d2)\n",
        "print('slope: ', (d2 - d1)/h) "
      ],
      "metadata": {
        "colab": {
          "base_uri": "https://localhost:8080/"
        },
        "id": "vrGf4EPwFLIt",
        "outputId": "1c5a9e13-c3bd-4cc7-a982-2e46d4bcf771"
      },
      "execution_count": 15,
      "outputs": [
        {
          "output_type": "stream",
          "name": "stdout",
          "text": [
            "d1:  4.0\n",
            "d2:  4.002\n",
            "slope:  1.9999999999997797\n"
          ]
        }
      ]
    },
    {
      "cell_type": "markdown",
      "source": [
        "Here we differentiate w.r.t to b, so we will get `a`. "
      ],
      "metadata": {
        "id": "kMRHMEKSGHos"
      }
    },
    {
      "cell_type": "code",
      "source": [
        "# Bumping the c \n",
        "\n",
        "h = 0.001 \n",
        "\n",
        "# Inputs \n",
        "a = 2.0 \n",
        "b = -3.0 \n",
        "c = 10.0\n",
        "\n",
        "d1 = a*b + c\n",
        "c += h\n",
        "d2 = a*b + c \n",
        "\n",
        "print(\"d1: \", d1)\n",
        "print(\"d2: \", d2)\n",
        "print('slope: ', (d2 - d1)/h) "
      ],
      "metadata": {
        "colab": {
          "base_uri": "https://localhost:8080/"
        },
        "id": "_sXXkTXfGXIr",
        "outputId": "29598edd-3ed0-4f46-a8e1-e8cff3cb8359"
      },
      "execution_count": 16,
      "outputs": [
        {
          "output_type": "stream",
          "name": "stdout",
          "text": [
            "d1:  4.0\n",
            "d2:  4.0009999999999994\n",
            "slope:  0.9999999999994458\n"
          ]
        }
      ]
    },
    {
      "cell_type": "markdown",
      "source": [
        "The slope is `0.99999999999458` is the rate at which function d will increase if we scale. "
      ],
      "metadata": {
        "id": "_BoW7w_BGgdL"
      }
    },
    {
      "cell_type": "markdown",
      "source": [
        "### Building the `Value` object of micrograd \n",
        "\n",
        "\n"
      ],
      "metadata": {
        "id": "2TuznGVlHGpa"
      }
    },
    {
      "cell_type": "code",
      "source": [
        "# Skeleton of the Value Object \n",
        "\n",
        "class Value: \n",
        "\n",
        "  def __init__(self , data):\n",
        "    self.data = data \n",
        "\n",
        "  # repr -> gets the string representation of the object \n",
        "  def __repr__(self):\n",
        "    return f\"Value(data = {self.data})\""
      ],
      "metadata": {
        "id": "vBrCph2sHIjK"
      },
      "execution_count": 17,
      "outputs": []
    },
    {
      "cell_type": "code",
      "source": [
        "a = Value(2.0)\n",
        "b = Value(-3.0)\n",
        "\n",
        "a + b "
      ],
      "metadata": {
        "colab": {
          "base_uri": "https://localhost:8080/",
          "height": 201
        },
        "id": "0wIvl1sFYEtF",
        "outputId": "945ea282-a065-4a57-e2a7-e2d9ee3b43ab"
      },
      "execution_count": 19,
      "outputs": [
        {
          "output_type": "error",
          "ename": "TypeError",
          "evalue": "ignored",
          "traceback": [
            "\u001b[0;31m---------------------------------------------------------------------------\u001b[0m",
            "\u001b[0;31mTypeError\u001b[0m                                 Traceback (most recent call last)",
            "\u001b[0;32m<ipython-input-19-d48281e67c19>\u001b[0m in \u001b[0;36m<module>\u001b[0;34m\u001b[0m\n\u001b[1;32m      2\u001b[0m \u001b[0mb\u001b[0m \u001b[0;34m=\u001b[0m \u001b[0mValue\u001b[0m\u001b[0;34m(\u001b[0m\u001b[0;34m-\u001b[0m\u001b[0;36m3.0\u001b[0m\u001b[0;34m)\u001b[0m\u001b[0;34m\u001b[0m\u001b[0;34m\u001b[0m\u001b[0m\n\u001b[1;32m      3\u001b[0m \u001b[0;34m\u001b[0m\u001b[0m\n\u001b[0;32m----> 4\u001b[0;31m \u001b[0ma\u001b[0m \u001b[0;34m+\u001b[0m \u001b[0mb\u001b[0m\u001b[0;34m\u001b[0m\u001b[0;34m\u001b[0m\u001b[0m\n\u001b[0m",
            "\u001b[0;31mTypeError\u001b[0m: unsupported operand type(s) for +: 'Value' and 'Value'"
          ]
        }
      ]
    },
    {
      "cell_type": "code",
      "source": [
        "# Addition method \n",
        "# Skeleton of the Value Object \n",
        "\n",
        "class Value: \n",
        "\n",
        "  def __init__(self , data , _children = ()):\n",
        "    self.data = data \n",
        "    self._prev = set(_children) # set of children tuple  \n",
        "\n",
        "  # repr -> gets the string representation of the object \n",
        "  def __repr__(self):\n",
        "    return f\"Value(data = {self.data})\"\n",
        "\n",
        "  def __add__(self, other): # a.__add__(b)\n",
        "    out = Value(self.data + other.data , (self, other))\n",
        "    return out\n",
        "\n",
        "  def __mul__(self, other): # a.__mult__(b)\n",
        "    out = Value(self.data * other.data , (self, other))\n",
        "    return out"
      ],
      "metadata": {
        "id": "gHhWVZ8gYGNz"
      },
      "execution_count": 20,
      "outputs": []
    },
    {
      "cell_type": "code",
      "source": [
        "a = Value(2.0)\n",
        "b = Value(-3.0)\n",
        "\n",
        "n = a * b \n",
        "n._prev"
      ],
      "metadata": {
        "colab": {
          "base_uri": "https://localhost:8080/"
        },
        "id": "g0f6nlVdZH89",
        "outputId": "d898bc3b-47cd-4e85-8024-813aa0ceb128"
      },
      "execution_count": 21,
      "outputs": [
        {
          "output_type": "execute_result",
          "data": {
            "text/plain": [
              "{Value(data = -3.0), Value(data = 2.0)}"
            ]
          },
          "metadata": {},
          "execution_count": 21
        }
      ]
    },
    {
      "cell_type": "code",
      "source": [
        "a*b "
      ],
      "metadata": {
        "colab": {
          "base_uri": "https://localhost:8080/"
        },
        "id": "s7YJZrGnbWUs",
        "outputId": "4469e3a6-2207-4f15-ecdb-061daaec7b40"
      },
      "execution_count": 22,
      "outputs": [
        {
          "output_type": "execute_result",
          "data": {
            "text/plain": [
              "Value(data = -6.0)"
            ]
          },
          "metadata": {},
          "execution_count": 22
        }
      ]
    },
    {
      "cell_type": "code",
      "source": [
        "# Multiple operations \n",
        "c = Value(10.0)\n",
        "d = a*b + c "
      ],
      "metadata": {
        "id": "yVpqAjDBZJQG"
      },
      "execution_count": 23,
      "outputs": []
    },
    {
      "cell_type": "markdown",
      "source": [
        "We need to have some sort of graph where we will be tracking what values produce what other values (like a pointer). \n",
        "\n",
        "\n",
        "\n"
      ],
      "metadata": {
        "id": "6_SSLU6rZ6yw"
      }
    },
    {
      "cell_type": "code",
      "source": [
        "d._prev"
      ],
      "metadata": {
        "colab": {
          "base_uri": "https://localhost:8080/"
        },
        "id": "Onj_4fSqakMj",
        "outputId": "027d7c16-83cb-4ed5-9087-322e81c97aec"
      },
      "execution_count": 24,
      "outputs": [
        {
          "output_type": "execute_result",
          "data": {
            "text/plain": [
              "{Value(data = -6.0), Value(data = 10.0)}"
            ]
          },
          "metadata": {},
          "execution_count": 24
        }
      ]
    },
    {
      "cell_type": "markdown",
      "source": [
        "Above is the value resulting from `a*b` and the `c`\n",
        "\n",
        "- `a*b` -> Value(-6.0)\n",
        "- `c` -> Value(10.0)"
      ],
      "metadata": {
        "id": "Umuh0qBWbSWA"
      }
    },
    {
      "cell_type": "markdown",
      "source": [
        "Now we know the children of every single value but we dont know what operation created this value."
      ],
      "metadata": {
        "id": "d_JVRiHvb3oR"
      }
    },
    {
      "cell_type": "code",
      "source": [
        "# Creating labels \n",
        "\n",
        "# Operation variable \n",
        "class Value: \n",
        "\n",
        "  def __init__(self , data , _children = () , _op = \"\", label = \"\"):\n",
        "    self.data = data \n",
        "    self._prev = set(_children) # set of children tuple  \n",
        "    self._op = _op\n",
        "    self.label = label\n",
        "\n",
        "  # repr -> gets the string representation of the object \n",
        "  def __repr__(self):\n",
        "    return f\"Value(data = {self.data})\"\n",
        "\n",
        "  def __add__(self, other): # a.__add__(b)\n",
        "    out = Value(self.data + other.data , (self, other) , \"+\")\n",
        "    return out\n",
        "\n",
        "  def __mul__(self, other): # a.__mult__(b)\n",
        "    out = Value(self.data * other.data , (self, other) , \"*\")\n",
        "    return out"
      ],
      "metadata": {
        "id": "bGpONYiecW_F"
      },
      "execution_count": 35,
      "outputs": []
    },
    {
      "cell_type": "code",
      "source": [
        "# Now we know what are the opertions took place \n",
        "d = a*b + c \n",
        "d._op"
      ],
      "metadata": {
        "colab": {
          "base_uri": "https://localhost:8080/",
          "height": 35
        },
        "id": "4YWQ8hs9cnMe",
        "outputId": "53149333-f6da-4e33-f733-df126c8f46cb"
      },
      "execution_count": 36,
      "outputs": [
        {
          "output_type": "execute_result",
          "data": {
            "text/plain": [
              "'+'"
            ],
            "application/vnd.google.colaboratory.intrinsic+json": {
              "type": "string"
            }
          },
          "metadata": {},
          "execution_count": 36
        }
      ]
    },
    {
      "cell_type": "markdown",
      "source": [
        "`d` was produced by the addition of two values. "
      ],
      "metadata": {
        "id": "o0OA_owzctnB"
      }
    },
    {
      "cell_type": "code",
      "source": [
        "eq = a * b * c "
      ],
      "metadata": {
        "id": "jmfHfJ9lc6x7"
      },
      "execution_count": 37,
      "outputs": []
    },
    {
      "cell_type": "code",
      "source": [
        "eq._prev"
      ],
      "metadata": {
        "colab": {
          "base_uri": "https://localhost:8080/"
        },
        "id": "v_T1eW0_c9IZ",
        "outputId": "0803e3d0-d076-480a-dba2-9f40d8e9a4fb"
      },
      "execution_count": 38,
      "outputs": [
        {
          "output_type": "execute_result",
          "data": {
            "text/plain": [
              "{Value(data = -6.0), Value(data = 10.0)}"
            ]
          },
          "metadata": {},
          "execution_count": 38
        }
      ]
    },
    {
      "cell_type": "code",
      "source": [
        "a, b , c"
      ],
      "metadata": {
        "colab": {
          "base_uri": "https://localhost:8080/"
        },
        "id": "ZEiKe5CKc97G",
        "outputId": "b84bcc81-a8cd-45d5-e04b-a5dc000b69d4"
      },
      "execution_count": 39,
      "outputs": [
        {
          "output_type": "execute_result",
          "data": {
            "text/plain": [
              "(Value(data = 2.0), Value(data = -3.0), Value(data = 10.0))"
            ]
          },
          "metadata": {},
          "execution_count": 39
        }
      ]
    },
    {
      "cell_type": "code",
      "source": [
        "eq._op"
      ],
      "metadata": {
        "colab": {
          "base_uri": "https://localhost:8080/",
          "height": 35
        },
        "id": "LQ0j7o2adATZ",
        "outputId": "403f8e8a-eb46-4f5d-b44d-ca38659e7942"
      },
      "execution_count": 40,
      "outputs": [
        {
          "output_type": "execute_result",
          "data": {
            "text/plain": [
              "'*'"
            ],
            "application/vnd.google.colaboratory.intrinsic+json": {
              "type": "string"
            }
          },
          "metadata": {},
          "execution_count": 40
        }
      ]
    },
    {
      "cell_type": "markdown",
      "source": [
        "#### Tracing the graph for better visualization \n",
        "\n",
        "Function to visualize the root node "
      ],
      "metadata": {
        "id": "QnNYL3L9dDHA"
      }
    },
    {
      "cell_type": "code",
      "source": [
        "from graphviz import Digraph\n",
        "\n",
        "def trace(root):\n",
        "\n",
        "  # Builds set of nodes and edges in a graph \n",
        "  nodes , edges = set() , set()\n",
        "  # Function to build \n",
        "  def build(v):\n",
        "    # Checking for the Value Object\n",
        "    if v not in nodes:\n",
        "      nodes.add(v) # Value\n",
        "\n",
        "      # Iterating the children stored in the value \n",
        "      for child in v._prev:\n",
        "        edges.add((child , v)) # Children and the value associated\n",
        "        build(child)\n",
        "  build(root)\n",
        "  return nodes, edges"
      ],
      "metadata": {
        "id": "afmxP_jcdYoE"
      },
      "execution_count": 41,
      "outputs": []
    },
    {
      "cell_type": "code",
      "source": [
        "def draw_dot(root, format='svg', rankdir='LR'):\n",
        "    \"\"\"\n",
        "    format: png | svg | ...\n",
        "    rankdir: TB (top to bottom graph) | LR (left to right)\n",
        "    \"\"\"\n",
        "    assert rankdir in ['LR', 'TB']\n",
        "    nodes, edges = trace(root)\n",
        "    dot = Digraph(format=format, graph_attr={'rankdir': rankdir}) #, node_attr={'rankdir': 'TB'})\n",
        "    \n",
        "    for n in nodes:\n",
        "  \n",
        "        dot.node(name=str(id(n)), label = \"{ %s| data %.4f }\" % (n.label, n.data ), shape='record')\n",
        "    \n",
        "        if n._op:\n",
        "            dot.node(name=str(id(n)) + n._op, label=n._op)\n",
        "            dot.edge(str(id(n)) + n._op, str(id(n)))\n",
        "    \n",
        "    for n1, n2 in edges:\n",
        "        dot.edge(str(id(n1)), str(id(n2)) + n2._op)\n",
        "    \n",
        "    return dot"
      ],
      "metadata": {
        "id": "stGFQEvbdcC3"
      },
      "execution_count": 42,
      "outputs": []
    },
    {
      "cell_type": "code",
      "source": [
        "a = Value(2.0)\n",
        "b = Value(-3.0)\n",
        "c = Value(10.0)\n",
        "\n",
        "d = a*b + c "
      ],
      "metadata": {
        "id": "Bo-xKqvQOx9v"
      },
      "execution_count": 45,
      "outputs": []
    },
    {
      "cell_type": "code",
      "source": [
        "draw_dot(d)"
      ],
      "metadata": {
        "colab": {
          "base_uri": "https://localhost:8080/",
          "height": 192
        },
        "id": "QcunxG-LPL3_",
        "outputId": "02fd8509-4e91-411c-d523-80b826b66008"
      },
      "execution_count": 46,
      "outputs": [
        {
          "output_type": "execute_result",
          "data": {
            "text/plain": [
              "<graphviz.dot.Digraph at 0x7f638dd007f0>"
            ],
            "image/svg+xml": "<?xml version=\"1.0\" encoding=\"UTF-8\" standalone=\"no\"?>\n<!DOCTYPE svg PUBLIC \"-//W3C//DTD SVG 1.1//EN\"\n \"http://www.w3.org/Graphics/SVG/1.1/DTD/svg11.dtd\">\n<!-- Generated by graphviz version 2.43.0 (0)\n -->\n<!-- Title: %3 Pages: 1 -->\n<svg width=\"572pt\" height=\"128pt\"\n viewBox=\"0.00 0.00 572.00 128.00\" xmlns=\"http://www.w3.org/2000/svg\" xmlns:xlink=\"http://www.w3.org/1999/xlink\">\n<g id=\"graph0\" class=\"graph\" transform=\"scale(1 1) rotate(0) translate(4 124)\">\n<title>%3</title>\n<polygon fill=\"white\" stroke=\"transparent\" points=\"-4,4 -4,-124 568,-124 568,4 -4,4\"/>\n<!-- 140065557710400 -->\n<g id=\"node1\" class=\"node\">\n<title>140065557710400</title>\n<polygon fill=\"none\" stroke=\"black\" points=\"464,-27.5 464,-63.5 564,-63.5 564,-27.5 464,-27.5\"/>\n<text text-anchor=\"middle\" x=\"474\" y=\"-41.8\" font-family=\"Times,serif\" font-size=\"14.00\"> </text>\n<polyline fill=\"none\" stroke=\"black\" points=\"484,-27.5 484,-63.5 \"/>\n<text text-anchor=\"middle\" x=\"524\" y=\"-41.8\" font-family=\"Times,serif\" font-size=\"14.00\">data 4.0000</text>\n</g>\n<!-- 140065557710400+ -->\n<g id=\"node2\" class=\"node\">\n<title>140065557710400+</title>\n<ellipse fill=\"none\" stroke=\"black\" cx=\"401\" cy=\"-45.5\" rx=\"27\" ry=\"18\"/>\n<text text-anchor=\"middle\" x=\"401\" y=\"-41.8\" font-family=\"Times,serif\" font-size=\"14.00\">+</text>\n</g>\n<!-- 140065557710400+&#45;&gt;140065557710400 -->\n<g id=\"edge1\" class=\"edge\">\n<title>140065557710400+&#45;&gt;140065557710400</title>\n<path fill=\"none\" stroke=\"black\" d=\"M428.02,-45.5C435.75,-45.5 444.56,-45.5 453.5,-45.5\"/>\n<polygon fill=\"black\" stroke=\"black\" points=\"453.6,-49 463.6,-45.5 453.6,-42 453.6,-49\"/>\n</g>\n<!-- 140065557710640 -->\n<g id=\"node3\" class=\"node\">\n<title>140065557710640</title>\n<polygon fill=\"none\" stroke=\"black\" points=\"0,-83.5 0,-119.5 105,-119.5 105,-83.5 0,-83.5\"/>\n<text text-anchor=\"middle\" x=\"10\" y=\"-97.8\" font-family=\"Times,serif\" font-size=\"14.00\"> </text>\n<polyline fill=\"none\" stroke=\"black\" points=\"20,-83.5 20,-119.5 \"/>\n<text text-anchor=\"middle\" x=\"62.5\" y=\"-97.8\" font-family=\"Times,serif\" font-size=\"14.00\">data &#45;3.0000</text>\n</g>\n<!-- 140065557712752* -->\n<g id=\"node6\" class=\"node\">\n<title>140065557712752*</title>\n<ellipse fill=\"none\" stroke=\"black\" cx=\"168\" cy=\"-73.5\" rx=\"27\" ry=\"18\"/>\n<text text-anchor=\"middle\" x=\"168\" y=\"-69.8\" font-family=\"Times,serif\" font-size=\"14.00\">*</text>\n</g>\n<!-- 140065557710640&#45;&gt;140065557712752* -->\n<g id=\"edge3\" class=\"edge\">\n<title>140065557710640&#45;&gt;140065557712752*</title>\n<path fill=\"none\" stroke=\"black\" d=\"M105.27,-88.73C114.6,-86.43 124.11,-84.08 132.78,-81.94\"/>\n<polygon fill=\"black\" stroke=\"black\" points=\"133.64,-85.33 142.51,-79.54 131.97,-78.54 133.64,-85.33\"/>\n</g>\n<!-- 140065557711168 -->\n<g id=\"node4\" class=\"node\">\n<title>140065557711168</title>\n<polygon fill=\"none\" stroke=\"black\" points=\"2.5,-28.5 2.5,-64.5 102.5,-64.5 102.5,-28.5 2.5,-28.5\"/>\n<text text-anchor=\"middle\" x=\"12.5\" y=\"-42.8\" font-family=\"Times,serif\" font-size=\"14.00\"> </text>\n<polyline fill=\"none\" stroke=\"black\" points=\"22.5,-28.5 22.5,-64.5 \"/>\n<text text-anchor=\"middle\" x=\"62.5\" y=\"-42.8\" font-family=\"Times,serif\" font-size=\"14.00\">data 2.0000</text>\n</g>\n<!-- 140065557711168&#45;&gt;140065557712752* -->\n<g id=\"edge4\" class=\"edge\">\n<title>140065557711168&#45;&gt;140065557712752*</title>\n<path fill=\"none\" stroke=\"black\" d=\"M102.62,-58.19C112.65,-60.57 123.01,-63.04 132.4,-65.27\"/>\n<polygon fill=\"black\" stroke=\"black\" points=\"131.62,-68.68 142.16,-67.59 133.24,-61.87 131.62,-68.68\"/>\n</g>\n<!-- 140065557712752 -->\n<g id=\"node5\" class=\"node\">\n<title>140065557712752</title>\n<polygon fill=\"none\" stroke=\"black\" points=\"232,-55.5 232,-91.5 337,-91.5 337,-55.5 232,-55.5\"/>\n<text text-anchor=\"middle\" x=\"242\" y=\"-69.8\" font-family=\"Times,serif\" font-size=\"14.00\"> </text>\n<polyline fill=\"none\" stroke=\"black\" points=\"252,-55.5 252,-91.5 \"/>\n<text text-anchor=\"middle\" x=\"294.5\" y=\"-69.8\" font-family=\"Times,serif\" font-size=\"14.00\">data &#45;6.0000</text>\n</g>\n<!-- 140065557712752&#45;&gt;140065557710400+ -->\n<g id=\"edge5\" class=\"edge\">\n<title>140065557712752&#45;&gt;140065557710400+</title>\n<path fill=\"none\" stroke=\"black\" d=\"M337.06,-60.89C346.61,-58.56 356.38,-56.17 365.29,-53.99\"/>\n<polygon fill=\"black\" stroke=\"black\" points=\"366.4,-57.32 375.28,-51.55 364.73,-50.52 366.4,-57.32\"/>\n</g>\n<!-- 140065557712752*&#45;&gt;140065557712752 -->\n<g id=\"edge2\" class=\"edge\">\n<title>140065557712752*&#45;&gt;140065557712752</title>\n<path fill=\"none\" stroke=\"black\" d=\"M195.27,-73.5C203.22,-73.5 212.31,-73.5 221.57,-73.5\"/>\n<polygon fill=\"black\" stroke=\"black\" points=\"221.63,-77 231.63,-73.5 221.63,-70 221.63,-77\"/>\n</g>\n<!-- 140065557711840 -->\n<g id=\"node7\" class=\"node\">\n<title>140065557711840</title>\n<polygon fill=\"none\" stroke=\"black\" points=\"231,-0.5 231,-36.5 338,-36.5 338,-0.5 231,-0.5\"/>\n<text text-anchor=\"middle\" x=\"241\" y=\"-14.8\" font-family=\"Times,serif\" font-size=\"14.00\"> </text>\n<polyline fill=\"none\" stroke=\"black\" points=\"251,-0.5 251,-36.5 \"/>\n<text text-anchor=\"middle\" x=\"294.5\" y=\"-14.8\" font-family=\"Times,serif\" font-size=\"14.00\">data 10.0000</text>\n</g>\n<!-- 140065557711840&#45;&gt;140065557710400+ -->\n<g id=\"edge6\" class=\"edge\">\n<title>140065557711840&#45;&gt;140065557710400+</title>\n<path fill=\"none\" stroke=\"black\" d=\"M338.06,-30.89C347.25,-33.06 356.61,-35.27 365.17,-37.29\"/>\n<polygon fill=\"black\" stroke=\"black\" points=\"364.62,-40.75 375.16,-39.64 366.23,-33.94 364.62,-40.75\"/>\n</g>\n</g>\n</svg>\n"
          },
          "metadata": {},
          "execution_count": 46
        }
      ]
    },
    {
      "cell_type": "code",
      "source": [
        "draw_dot(d)"
      ],
      "metadata": {
        "colab": {
          "base_uri": "https://localhost:8080/",
          "height": 192
        },
        "id": "1KU7veAgUMUj",
        "outputId": "9a177933-2239-436a-ac8b-b277de64dae1"
      },
      "execution_count": 47,
      "outputs": [
        {
          "output_type": "execute_result",
          "data": {
            "text/plain": [
              "<graphviz.dot.Digraph at 0x7f638dd004c0>"
            ],
            "image/svg+xml": "<?xml version=\"1.0\" encoding=\"UTF-8\" standalone=\"no\"?>\n<!DOCTYPE svg PUBLIC \"-//W3C//DTD SVG 1.1//EN\"\n \"http://www.w3.org/Graphics/SVG/1.1/DTD/svg11.dtd\">\n<!-- Generated by graphviz version 2.43.0 (0)\n -->\n<!-- Title: %3 Pages: 1 -->\n<svg width=\"572pt\" height=\"128pt\"\n viewBox=\"0.00 0.00 572.00 128.00\" xmlns=\"http://www.w3.org/2000/svg\" xmlns:xlink=\"http://www.w3.org/1999/xlink\">\n<g id=\"graph0\" class=\"graph\" transform=\"scale(1 1) rotate(0) translate(4 124)\">\n<title>%3</title>\n<polygon fill=\"white\" stroke=\"transparent\" points=\"-4,4 -4,-124 568,-124 568,4 -4,4\"/>\n<!-- 140065557710400 -->\n<g id=\"node1\" class=\"node\">\n<title>140065557710400</title>\n<polygon fill=\"none\" stroke=\"black\" points=\"464,-27.5 464,-63.5 564,-63.5 564,-27.5 464,-27.5\"/>\n<text text-anchor=\"middle\" x=\"474\" y=\"-41.8\" font-family=\"Times,serif\" font-size=\"14.00\"> </text>\n<polyline fill=\"none\" stroke=\"black\" points=\"484,-27.5 484,-63.5 \"/>\n<text text-anchor=\"middle\" x=\"524\" y=\"-41.8\" font-family=\"Times,serif\" font-size=\"14.00\">data 4.0000</text>\n</g>\n<!-- 140065557710400+ -->\n<g id=\"node2\" class=\"node\">\n<title>140065557710400+</title>\n<ellipse fill=\"none\" stroke=\"black\" cx=\"401\" cy=\"-45.5\" rx=\"27\" ry=\"18\"/>\n<text text-anchor=\"middle\" x=\"401\" y=\"-41.8\" font-family=\"Times,serif\" font-size=\"14.00\">+</text>\n</g>\n<!-- 140065557710400+&#45;&gt;140065557710400 -->\n<g id=\"edge1\" class=\"edge\">\n<title>140065557710400+&#45;&gt;140065557710400</title>\n<path fill=\"none\" stroke=\"black\" d=\"M428.02,-45.5C435.75,-45.5 444.56,-45.5 453.5,-45.5\"/>\n<polygon fill=\"black\" stroke=\"black\" points=\"453.6,-49 463.6,-45.5 453.6,-42 453.6,-49\"/>\n</g>\n<!-- 140065557710640 -->\n<g id=\"node3\" class=\"node\">\n<title>140065557710640</title>\n<polygon fill=\"none\" stroke=\"black\" points=\"0,-83.5 0,-119.5 105,-119.5 105,-83.5 0,-83.5\"/>\n<text text-anchor=\"middle\" x=\"10\" y=\"-97.8\" font-family=\"Times,serif\" font-size=\"14.00\"> </text>\n<polyline fill=\"none\" stroke=\"black\" points=\"20,-83.5 20,-119.5 \"/>\n<text text-anchor=\"middle\" x=\"62.5\" y=\"-97.8\" font-family=\"Times,serif\" font-size=\"14.00\">data &#45;3.0000</text>\n</g>\n<!-- 140065557712752* -->\n<g id=\"node6\" class=\"node\">\n<title>140065557712752*</title>\n<ellipse fill=\"none\" stroke=\"black\" cx=\"168\" cy=\"-73.5\" rx=\"27\" ry=\"18\"/>\n<text text-anchor=\"middle\" x=\"168\" y=\"-69.8\" font-family=\"Times,serif\" font-size=\"14.00\">*</text>\n</g>\n<!-- 140065557710640&#45;&gt;140065557712752* -->\n<g id=\"edge3\" class=\"edge\">\n<title>140065557710640&#45;&gt;140065557712752*</title>\n<path fill=\"none\" stroke=\"black\" d=\"M105.27,-88.73C114.6,-86.43 124.11,-84.08 132.78,-81.94\"/>\n<polygon fill=\"black\" stroke=\"black\" points=\"133.64,-85.33 142.51,-79.54 131.97,-78.54 133.64,-85.33\"/>\n</g>\n<!-- 140065557711168 -->\n<g id=\"node4\" class=\"node\">\n<title>140065557711168</title>\n<polygon fill=\"none\" stroke=\"black\" points=\"2.5,-28.5 2.5,-64.5 102.5,-64.5 102.5,-28.5 2.5,-28.5\"/>\n<text text-anchor=\"middle\" x=\"12.5\" y=\"-42.8\" font-family=\"Times,serif\" font-size=\"14.00\"> </text>\n<polyline fill=\"none\" stroke=\"black\" points=\"22.5,-28.5 22.5,-64.5 \"/>\n<text text-anchor=\"middle\" x=\"62.5\" y=\"-42.8\" font-family=\"Times,serif\" font-size=\"14.00\">data 2.0000</text>\n</g>\n<!-- 140065557711168&#45;&gt;140065557712752* -->\n<g id=\"edge4\" class=\"edge\">\n<title>140065557711168&#45;&gt;140065557712752*</title>\n<path fill=\"none\" stroke=\"black\" d=\"M102.62,-58.19C112.65,-60.57 123.01,-63.04 132.4,-65.27\"/>\n<polygon fill=\"black\" stroke=\"black\" points=\"131.62,-68.68 142.16,-67.59 133.24,-61.87 131.62,-68.68\"/>\n</g>\n<!-- 140065557712752 -->\n<g id=\"node5\" class=\"node\">\n<title>140065557712752</title>\n<polygon fill=\"none\" stroke=\"black\" points=\"232,-55.5 232,-91.5 337,-91.5 337,-55.5 232,-55.5\"/>\n<text text-anchor=\"middle\" x=\"242\" y=\"-69.8\" font-family=\"Times,serif\" font-size=\"14.00\"> </text>\n<polyline fill=\"none\" stroke=\"black\" points=\"252,-55.5 252,-91.5 \"/>\n<text text-anchor=\"middle\" x=\"294.5\" y=\"-69.8\" font-family=\"Times,serif\" font-size=\"14.00\">data &#45;6.0000</text>\n</g>\n<!-- 140065557712752&#45;&gt;140065557710400+ -->\n<g id=\"edge5\" class=\"edge\">\n<title>140065557712752&#45;&gt;140065557710400+</title>\n<path fill=\"none\" stroke=\"black\" d=\"M337.06,-60.89C346.61,-58.56 356.38,-56.17 365.29,-53.99\"/>\n<polygon fill=\"black\" stroke=\"black\" points=\"366.4,-57.32 375.28,-51.55 364.73,-50.52 366.4,-57.32\"/>\n</g>\n<!-- 140065557712752*&#45;&gt;140065557712752 -->\n<g id=\"edge2\" class=\"edge\">\n<title>140065557712752*&#45;&gt;140065557712752</title>\n<path fill=\"none\" stroke=\"black\" d=\"M195.27,-73.5C203.22,-73.5 212.31,-73.5 221.57,-73.5\"/>\n<polygon fill=\"black\" stroke=\"black\" points=\"221.63,-77 231.63,-73.5 221.63,-70 221.63,-77\"/>\n</g>\n<!-- 140065557711840 -->\n<g id=\"node7\" class=\"node\">\n<title>140065557711840</title>\n<polygon fill=\"none\" stroke=\"black\" points=\"231,-0.5 231,-36.5 338,-36.5 338,-0.5 231,-0.5\"/>\n<text text-anchor=\"middle\" x=\"241\" y=\"-14.8\" font-family=\"Times,serif\" font-size=\"14.00\"> </text>\n<polyline fill=\"none\" stroke=\"black\" points=\"251,-0.5 251,-36.5 \"/>\n<text text-anchor=\"middle\" x=\"294.5\" y=\"-14.8\" font-family=\"Times,serif\" font-size=\"14.00\">data 10.0000</text>\n</g>\n<!-- 140065557711840&#45;&gt;140065557710400+ -->\n<g id=\"edge6\" class=\"edge\">\n<title>140065557711840&#45;&gt;140065557710400+</title>\n<path fill=\"none\" stroke=\"black\" d=\"M338.06,-30.89C347.25,-33.06 356.61,-35.27 365.17,-37.29\"/>\n<polygon fill=\"black\" stroke=\"black\" points=\"364.62,-40.75 375.16,-39.64 366.23,-33.94 364.62,-40.75\"/>\n</g>\n</g>\n</svg>\n"
          },
          "metadata": {},
          "execution_count": 47
        }
      ]
    },
    {
      "cell_type": "code",
      "source": [
        "# Creating labels \n",
        "\n",
        "# Operation variable \n",
        "class Value: \n",
        "\n",
        "  def __init__(self , data , _children = () , _op = \"\", label = \"\"):\n",
        "    self.data = data \n",
        "    self._prev = set(_children) # set of children tuple  \n",
        "    self._op = _op\n",
        "    self.label = label\n",
        "\n",
        "  # repr -> gets the string representation of the object \n",
        "  def __repr__(self):\n",
        "    return f\"Value(data = {self.data})\"\n",
        "\n",
        "  def __add__(self, other): # a.__add__(b)\n",
        "    out = Value(self.data + other.data , (self, other) , \"+\")\n",
        "    return out\n",
        "\n",
        "  def __mul__(self, other): # a.__mult__(b)\n",
        "    out = Value(self.data * other.data , (self, other) , \"*\")\n",
        "    return out"
      ],
      "metadata": {
        "id": "bUHE2aTBS_hs"
      },
      "execution_count": 48,
      "outputs": []
    },
    {
      "cell_type": "code",
      "source": [
        "a = Value(2.0 , label= \"a\")\n",
        "b = Value(-3.0 , label = \"b\")\n",
        "c = Value(10.0 , label = 'c')\n",
        "\n",
        "e = a*b; e.label = \"e\"\n",
        "d = e + c; d.label = 'd'\n",
        "\n",
        "f = Value(-2.0 , label = 'f')\n",
        "\n",
        "L = d *f ; L.label = \"L\"\n",
        "L"
      ],
      "metadata": {
        "colab": {
          "base_uri": "https://localhost:8080/"
        },
        "id": "LpzompxHUEp1",
        "outputId": "6bf64a17-fc77-45c9-89d2-e2e07fc79757"
      },
      "execution_count": 49,
      "outputs": [
        {
          "output_type": "execute_result",
          "data": {
            "text/plain": [
              "Value(data = -8.0)"
            ]
          },
          "metadata": {},
          "execution_count": 49
        }
      ]
    },
    {
      "cell_type": "code",
      "source": [
        "draw_dot(L)"
      ],
      "metadata": {
        "colab": {
          "base_uri": "https://localhost:8080/",
          "height": 227
        },
        "id": "2puaZJDeVVbI",
        "outputId": "ffb5d0a3-a74e-414e-f324-378b7bc16b4a"
      },
      "execution_count": 50,
      "outputs": [
        {
          "output_type": "execute_result",
          "data": {
            "text/plain": [
              "<graphviz.dot.Digraph at 0x7f638d2aceb0>"
            ],
            "image/svg+xml": "<?xml version=\"1.0\" encoding=\"UTF-8\" standalone=\"no\"?>\n<!DOCTYPE svg PUBLIC \"-//W3C//DTD SVG 1.1//EN\"\n \"http://www.w3.org/Graphics/SVG/1.1/DTD/svg11.dtd\">\n<!-- Generated by graphviz version 2.43.0 (0)\n -->\n<!-- Title: %3 Pages: 1 -->\n<svg width=\"820pt\" height=\"154pt\"\n viewBox=\"0.00 0.00 820.00 154.00\" xmlns=\"http://www.w3.org/2000/svg\" xmlns:xlink=\"http://www.w3.org/1999/xlink\">\n<g id=\"graph0\" class=\"graph\" transform=\"scale(1 1) rotate(0) translate(4 150)\">\n<title>%3</title>\n<polygon fill=\"white\" stroke=\"transparent\" points=\"-4,4 -4,-150 816,-150 816,4 -4,4\"/>\n<!-- 140065557710352 -->\n<g id=\"node1\" class=\"node\">\n<title>140065557710352</title>\n<polygon fill=\"none\" stroke=\"black\" points=\"470,-109.5 470,-145.5 576,-145.5 576,-109.5 470,-109.5\"/>\n<text text-anchor=\"middle\" x=\"480.5\" y=\"-123.8\" font-family=\"Times,serif\" font-size=\"14.00\">f</text>\n<polyline fill=\"none\" stroke=\"black\" points=\"491,-109.5 491,-145.5 \"/>\n<text text-anchor=\"middle\" x=\"533.5\" y=\"-123.8\" font-family=\"Times,serif\" font-size=\"14.00\">data &#45;2.0000</text>\n</g>\n<!-- 140065557710160* -->\n<g id=\"node5\" class=\"node\">\n<title>140065557710160*</title>\n<ellipse fill=\"none\" stroke=\"black\" cx=\"639\" cy=\"-99.5\" rx=\"27\" ry=\"18\"/>\n<text text-anchor=\"middle\" x=\"639\" y=\"-95.8\" font-family=\"Times,serif\" font-size=\"14.00\">*</text>\n</g>\n<!-- 140065557710352&#45;&gt;140065557710160* -->\n<g id=\"edge4\" class=\"edge\">\n<title>140065557710352&#45;&gt;140065557710160*</title>\n<path fill=\"none\" stroke=\"black\" d=\"M576.33,-114.65C585.48,-112.4 594.8,-110.11 603.33,-108.02\"/>\n<polygon fill=\"black\" stroke=\"black\" points=\"604.39,-111.36 613.27,-105.57 602.72,-104.56 604.39,-111.36\"/>\n</g>\n<!-- 140065546881632 -->\n<g id=\"node2\" class=\"node\">\n<title>140065546881632</title>\n<polygon fill=\"none\" stroke=\"black\" points=\"0,-55.5 0,-91.5 108,-91.5 108,-55.5 0,-55.5\"/>\n<text text-anchor=\"middle\" x=\"11.5\" y=\"-69.8\" font-family=\"Times,serif\" font-size=\"14.00\">b</text>\n<polyline fill=\"none\" stroke=\"black\" points=\"23,-55.5 23,-91.5 \"/>\n<text text-anchor=\"middle\" x=\"65.5\" y=\"-69.8\" font-family=\"Times,serif\" font-size=\"14.00\">data &#45;3.0000</text>\n</g>\n<!-- 140065546879904* -->\n<g id=\"node7\" class=\"node\">\n<title>140065546879904*</title>\n<ellipse fill=\"none\" stroke=\"black\" cx=\"171\" cy=\"-45.5\" rx=\"27\" ry=\"18\"/>\n<text text-anchor=\"middle\" x=\"171\" y=\"-41.8\" font-family=\"Times,serif\" font-size=\"14.00\">*</text>\n</g>\n<!-- 140065546881632&#45;&gt;140065546879904* -->\n<g id=\"edge6\" class=\"edge\">\n<title>140065546881632&#45;&gt;140065546879904*</title>\n<path fill=\"none\" stroke=\"black\" d=\"M108.12,-60.57C117.51,-58.28 127.06,-55.95 135.76,-53.84\"/>\n<polygon fill=\"black\" stroke=\"black\" points=\"136.62,-57.23 145.51,-51.46 134.97,-50.43 136.62,-57.23\"/>\n</g>\n<!-- 140065546882880 -->\n<g id=\"node3\" class=\"node\">\n<title>140065546882880</title>\n<polygon fill=\"none\" stroke=\"black\" points=\"234,-82.5 234,-118.5 344,-118.5 344,-82.5 234,-82.5\"/>\n<text text-anchor=\"middle\" x=\"245.5\" y=\"-96.8\" font-family=\"Times,serif\" font-size=\"14.00\">c</text>\n<polyline fill=\"none\" stroke=\"black\" points=\"257,-82.5 257,-118.5 \"/>\n<text text-anchor=\"middle\" x=\"300.5\" y=\"-96.8\" font-family=\"Times,serif\" font-size=\"14.00\">data 10.0000</text>\n</g>\n<!-- 140065557711792+ -->\n<g id=\"node9\" class=\"node\">\n<title>140065557711792+</title>\n<ellipse fill=\"none\" stroke=\"black\" cx=\"407\" cy=\"-72.5\" rx=\"27\" ry=\"18\"/>\n<text text-anchor=\"middle\" x=\"407\" y=\"-68.8\" font-family=\"Times,serif\" font-size=\"14.00\">+</text>\n</g>\n<!-- 140065546882880&#45;&gt;140065557711792+ -->\n<g id=\"edge8\" class=\"edge\">\n<title>140065546882880&#45;&gt;140065557711792+</title>\n<path fill=\"none\" stroke=\"black\" d=\"M344.26,-87.4C353.49,-85.18 362.84,-82.92 371.37,-80.86\"/>\n<polygon fill=\"black\" stroke=\"black\" points=\"372.42,-84.21 381.32,-78.46 370.78,-77.4 372.42,-84.21\"/>\n</g>\n<!-- 140065557710160 -->\n<g id=\"node4\" class=\"node\">\n<title>140065557710160</title>\n<polygon fill=\"none\" stroke=\"black\" points=\"702,-81.5 702,-117.5 812,-117.5 812,-81.5 702,-81.5\"/>\n<text text-anchor=\"middle\" x=\"714.5\" y=\"-95.8\" font-family=\"Times,serif\" font-size=\"14.00\">L</text>\n<polyline fill=\"none\" stroke=\"black\" points=\"727,-81.5 727,-117.5 \"/>\n<text text-anchor=\"middle\" x=\"769.5\" y=\"-95.8\" font-family=\"Times,serif\" font-size=\"14.00\">data &#45;8.0000</text>\n</g>\n<!-- 140065557710160*&#45;&gt;140065557710160 -->\n<g id=\"edge1\" class=\"edge\">\n<title>140065557710160*&#45;&gt;140065557710160</title>\n<path fill=\"none\" stroke=\"black\" d=\"M666.03,-99.5C673.7,-99.5 682.45,-99.5 691.42,-99.5\"/>\n<polygon fill=\"black\" stroke=\"black\" points=\"691.58,-103 701.58,-99.5 691.58,-96 691.58,-103\"/>\n</g>\n<!-- 140065546879904 -->\n<g id=\"node6\" class=\"node\">\n<title>140065546879904</title>\n<polygon fill=\"none\" stroke=\"black\" points=\"235,-27.5 235,-63.5 343,-63.5 343,-27.5 235,-27.5\"/>\n<text text-anchor=\"middle\" x=\"246.5\" y=\"-41.8\" font-family=\"Times,serif\" font-size=\"14.00\">e</text>\n<polyline fill=\"none\" stroke=\"black\" points=\"258,-27.5 258,-63.5 \"/>\n<text text-anchor=\"middle\" x=\"300.5\" y=\"-41.8\" font-family=\"Times,serif\" font-size=\"14.00\">data &#45;6.0000</text>\n</g>\n<!-- 140065546879904&#45;&gt;140065557711792+ -->\n<g id=\"edge9\" class=\"edge\">\n<title>140065546879904&#45;&gt;140065557711792+</title>\n<path fill=\"none\" stroke=\"black\" d=\"M343.25,-57.89C352.75,-60.11 362.43,-62.36 371.24,-64.41\"/>\n<polygon fill=\"black\" stroke=\"black\" points=\"370.6,-67.85 381.14,-66.71 372.19,-61.04 370.6,-67.85\"/>\n</g>\n<!-- 140065546879904*&#45;&gt;140065546879904 -->\n<g id=\"edge2\" class=\"edge\">\n<title>140065546879904*&#45;&gt;140065546879904</title>\n<path fill=\"none\" stroke=\"black\" d=\"M198.03,-45.5C206.08,-45.5 215.32,-45.5 224.74,-45.5\"/>\n<polygon fill=\"black\" stroke=\"black\" points=\"224.99,-49 234.99,-45.5 224.99,-42 224.99,-49\"/>\n</g>\n<!-- 140065557711792 -->\n<g id=\"node8\" class=\"node\">\n<title>140065557711792</title>\n<polygon fill=\"none\" stroke=\"black\" points=\"471.5,-54.5 471.5,-90.5 574.5,-90.5 574.5,-54.5 471.5,-54.5\"/>\n<text text-anchor=\"middle\" x=\"483\" y=\"-68.8\" font-family=\"Times,serif\" font-size=\"14.00\">d</text>\n<polyline fill=\"none\" stroke=\"black\" points=\"494.5,-54.5 494.5,-90.5 \"/>\n<text text-anchor=\"middle\" x=\"534.5\" y=\"-68.8\" font-family=\"Times,serif\" font-size=\"14.00\">data 4.0000</text>\n</g>\n<!-- 140065557711792&#45;&gt;140065557710160* -->\n<g id=\"edge7\" class=\"edge\">\n<title>140065557711792&#45;&gt;140065557710160*</title>\n<path fill=\"none\" stroke=\"black\" d=\"M574.67,-84.5C584.43,-86.81 594.45,-89.18 603.55,-91.34\"/>\n<polygon fill=\"black\" stroke=\"black\" points=\"602.83,-94.77 613.37,-93.67 604.45,-87.96 602.83,-94.77\"/>\n</g>\n<!-- 140065557711792+&#45;&gt;140065557711792 -->\n<g id=\"edge3\" class=\"edge\">\n<title>140065557711792+&#45;&gt;140065557711792</title>\n<path fill=\"none\" stroke=\"black\" d=\"M434.15,-72.5C442.26,-72.5 451.57,-72.5 461.02,-72.5\"/>\n<polygon fill=\"black\" stroke=\"black\" points=\"461.28,-76 471.28,-72.5 461.28,-69 461.28,-76\"/>\n</g>\n<!-- 140065546882016 -->\n<g id=\"node10\" class=\"node\">\n<title>140065546882016</title>\n<polygon fill=\"none\" stroke=\"black\" points=\"2.5,-0.5 2.5,-36.5 105.5,-36.5 105.5,-0.5 2.5,-0.5\"/>\n<text text-anchor=\"middle\" x=\"14\" y=\"-14.8\" font-family=\"Times,serif\" font-size=\"14.00\">a</text>\n<polyline fill=\"none\" stroke=\"black\" points=\"25.5,-0.5 25.5,-36.5 \"/>\n<text text-anchor=\"middle\" x=\"65.5\" y=\"-14.8\" font-family=\"Times,serif\" font-size=\"14.00\">data 2.0000</text>\n</g>\n<!-- 140065546882016&#45;&gt;140065546879904* -->\n<g id=\"edge5\" class=\"edge\">\n<title>140065546882016&#45;&gt;140065546879904*</title>\n<path fill=\"none\" stroke=\"black\" d=\"M105.78,-30.42C115.74,-32.76 125.98,-35.17 135.28,-37.35\"/>\n<polygon fill=\"black\" stroke=\"black\" points=\"134.77,-40.82 145.3,-39.7 136.37,-34.01 134.77,-40.82\"/>\n</g>\n</g>\n</svg>\n"
          },
          "metadata": {},
          "execution_count": 50
        }
      ]
    },
    {
      "cell_type": "markdown",
      "source": [
        "The above is the forward pass with the scalar values we have and we built out a mathematical expression. \n",
        "\n",
        "Next we will calculate the backpropagation where we will calculate the gradients by reversing the order of all the intermediate values.\n",
        "\n",
        "So in this case, we will calculate the derivative of L w.r.t to each of the variables. Some of the variables we've represents the weights of a neural network we have. \n",
        "\n",
        "So during the backprop the network is very much interested on the derivative of the loss function w.r.t its weights. \n"
      ],
      "metadata": {
        "id": "bz8L69nNUNwY"
      }
    },
    {
      "cell_type": "code",
      "source": [
        "# Creating labels \n",
        "\n",
        "# Operation variable \n",
        "class Value: \n",
        "\n",
        "  def __init__(self , data , _children = () , _op = \"\", label = \"\"):\n",
        "    self.data = data \n",
        "    self._prev = set(_children) # set of children tuple  \n",
        "    self._op = _op\n",
        "    self.label = label\n",
        "    self.grad = 0.0 # Means no effect at initial\n",
        "\n",
        "  # repr -> gets the string representation of the object \n",
        "  def __repr__(self):\n",
        "    return f\"Value(data = {self.data})\"\n",
        "\n",
        "  def __add__(self, other): # a.__add__(b)\n",
        "    out = Value(self.data + other.data , (self, other) , \"+\")\n",
        "    return out\n",
        "\n",
        "  def __mul__(self, other): # a.__mult__(b)\n",
        "    out = Value(self.data * other.data , (self, other) , \"*\")\n",
        "    return out"
      ],
      "metadata": {
        "id": "xBa7S_GzXidX"
      },
      "execution_count": 51,
      "outputs": []
    },
    {
      "cell_type": "code",
      "source": [
        "def draw_dot(root, format='svg', rankdir='LR'):\n",
        "    \"\"\"\n",
        "    format: png | svg | ...\n",
        "    rankdir: TB (top to bottom graph) | LR (left to right)\n",
        "    \"\"\"\n",
        "    assert rankdir in ['LR', 'TB']\n",
        "    nodes, edges = trace(root)\n",
        "    dot = Digraph(format=format, graph_attr={'rankdir': rankdir}) #, node_attr={'rankdir': 'TB'})\n",
        "    \n",
        "    for n in nodes:\n",
        "  \n",
        "        dot.node(name=str(id(n)), label = \"{ %s| data %.4f | grad %.4f }\" % (n.label, n.data, n.grad ), shape='record')\n",
        "    \n",
        "        if n._op:\n",
        "            dot.node(name=str(id(n)) + n._op, label=n._op)\n",
        "            dot.edge(str(id(n)) + n._op, str(id(n)))\n",
        "    \n",
        "    for n1, n2 in edges:\n",
        "        dot.edge(str(id(n1)), str(id(n2)) + n2._op)\n",
        "    \n",
        "    return dot"
      ],
      "metadata": {
        "id": "fE7A3ejk5bCp"
      },
      "execution_count": 52,
      "outputs": []
    },
    {
      "cell_type": "code",
      "source": [
        "a = Value(2.0 , label= \"a\")\n",
        "b = Value(-3.0 , label = \"b\")\n",
        "c = Value(10.0 , label = 'c')\n",
        "\n",
        "e = a*b; e.label = \"e\"\n",
        "d = e + c; d.label = 'd'\n",
        "\n",
        "f = Value(-2.0 , label = 'f')\n",
        "\n",
        "L = d *f ; L.label = \"L\"\n",
        "\n",
        "draw_dot(L)"
      ],
      "metadata": {
        "colab": {
          "base_uri": "https://localhost:8080/",
          "height": 212
        },
        "id": "iszuArG95iSV",
        "outputId": "9051bdc6-efeb-4215-d924-f690674c6e03"
      },
      "execution_count": 53,
      "outputs": [
        {
          "output_type": "execute_result",
          "data": {
            "text/plain": [
              "<graphviz.dot.Digraph at 0x7f638d1bba90>"
            ],
            "image/svg+xml": "<?xml version=\"1.0\" encoding=\"UTF-8\" standalone=\"no\"?>\n<!DOCTYPE svg PUBLIC \"-//W3C//DTD SVG 1.1//EN\"\n \"http://www.w3.org/Graphics/SVG/1.1/DTD/svg11.dtd\">\n<!-- Generated by graphviz version 2.43.0 (0)\n -->\n<!-- Title: %3 Pages: 1 -->\n<svg width=\"1148pt\" height=\"128pt\"\n viewBox=\"0.00 0.00 1148.00 128.00\" xmlns=\"http://www.w3.org/2000/svg\" xmlns:xlink=\"http://www.w3.org/1999/xlink\">\n<g id=\"graph0\" class=\"graph\" transform=\"scale(1 1) rotate(0) translate(4 124)\">\n<title>%3</title>\n<polygon fill=\"white\" stroke=\"transparent\" points=\"-4,4 -4,-124 1144,-124 1144,4 -4,4\"/>\n<!-- 140065545892384 -->\n<g id=\"node1\" class=\"node\">\n<title>140065545892384</title>\n<polygon fill=\"none\" stroke=\"black\" points=\"316,-83.5 316,-119.5 508,-119.5 508,-83.5 316,-83.5\"/>\n<text text-anchor=\"middle\" x=\"327.5\" y=\"-97.8\" font-family=\"Times,serif\" font-size=\"14.00\">c</text>\n<polyline fill=\"none\" stroke=\"black\" points=\"339,-83.5 339,-119.5 \"/>\n<text text-anchor=\"middle\" x=\"382.5\" y=\"-97.8\" font-family=\"Times,serif\" font-size=\"14.00\">data 10.0000</text>\n<polyline fill=\"none\" stroke=\"black\" points=\"426,-83.5 426,-119.5 \"/>\n<text text-anchor=\"middle\" x=\"467\" y=\"-97.8\" font-family=\"Times,serif\" font-size=\"14.00\">grad 0.0000</text>\n</g>\n<!-- 140065545894448+ -->\n<g id=\"node3\" class=\"node\">\n<title>140065545894448+</title>\n<ellipse fill=\"none\" stroke=\"black\" cx=\"571\" cy=\"-73.5\" rx=\"27\" ry=\"18\"/>\n<text text-anchor=\"middle\" x=\"571\" y=\"-69.8\" font-family=\"Times,serif\" font-size=\"14.00\">+</text>\n</g>\n<!-- 140065545892384&#45;&gt;140065545894448+ -->\n<g id=\"edge8\" class=\"edge\">\n<title>140065545892384&#45;&gt;140065545894448+</title>\n<path fill=\"none\" stroke=\"black\" d=\"M508.4,-84.49C517.69,-82.83 526.64,-81.23 534.71,-79.79\"/>\n<polygon fill=\"black\" stroke=\"black\" points=\"535.53,-83.2 544.76,-78 534.31,-76.31 535.53,-83.2\"/>\n</g>\n<!-- 140065545894448 -->\n<g id=\"node2\" class=\"node\">\n<title>140065545894448</title>\n<polygon fill=\"none\" stroke=\"black\" points=\"635.5,-55.5 635.5,-91.5 820.5,-91.5 820.5,-55.5 635.5,-55.5\"/>\n<text text-anchor=\"middle\" x=\"647\" y=\"-69.8\" font-family=\"Times,serif\" font-size=\"14.00\">d</text>\n<polyline fill=\"none\" stroke=\"black\" points=\"658.5,-55.5 658.5,-91.5 \"/>\n<text text-anchor=\"middle\" x=\"698.5\" y=\"-69.8\" font-family=\"Times,serif\" font-size=\"14.00\">data 4.0000</text>\n<polyline fill=\"none\" stroke=\"black\" points=\"738.5,-55.5 738.5,-91.5 \"/>\n<text text-anchor=\"middle\" x=\"779.5\" y=\"-69.8\" font-family=\"Times,serif\" font-size=\"14.00\">grad 0.0000</text>\n</g>\n<!-- 140065545894352* -->\n<g id=\"node10\" class=\"node\">\n<title>140065545894352*</title>\n<ellipse fill=\"none\" stroke=\"black\" cx=\"885\" cy=\"-45.5\" rx=\"27\" ry=\"18\"/>\n<text text-anchor=\"middle\" x=\"885\" y=\"-41.8\" font-family=\"Times,serif\" font-size=\"14.00\">*</text>\n</g>\n<!-- 140065545894448&#45;&gt;140065545894352* -->\n<g id=\"edge6\" class=\"edge\">\n<title>140065545894448&#45;&gt;140065545894352*</title>\n<path fill=\"none\" stroke=\"black\" d=\"M820.51,-56.97C830.48,-55.17 840.13,-53.42 848.77,-51.86\"/>\n<polygon fill=\"black\" stroke=\"black\" points=\"849.55,-55.28 858.77,-50.06 848.3,-48.39 849.55,-55.28\"/>\n</g>\n<!-- 140065545894448+&#45;&gt;140065545894448 -->\n<g id=\"edge1\" class=\"edge\">\n<title>140065545894448+&#45;&gt;140065545894448</title>\n<path fill=\"none\" stroke=\"black\" d=\"M598.29,-73.5C606.26,-73.5 615.54,-73.5 625.39,-73.5\"/>\n<polygon fill=\"black\" stroke=\"black\" points=\"625.41,-77 635.41,-73.5 625.41,-70 625.41,-77\"/>\n</g>\n<!-- 140065545894496 -->\n<g id=\"node4\" class=\"node\">\n<title>140065545894496</title>\n<polygon fill=\"none\" stroke=\"black\" points=\"634,-0.5 634,-36.5 822,-36.5 822,-0.5 634,-0.5\"/>\n<text text-anchor=\"middle\" x=\"644.5\" y=\"-14.8\" font-family=\"Times,serif\" font-size=\"14.00\">f</text>\n<polyline fill=\"none\" stroke=\"black\" points=\"655,-0.5 655,-36.5 \"/>\n<text text-anchor=\"middle\" x=\"697.5\" y=\"-14.8\" font-family=\"Times,serif\" font-size=\"14.00\">data &#45;2.0000</text>\n<polyline fill=\"none\" stroke=\"black\" points=\"740,-0.5 740,-36.5 \"/>\n<text text-anchor=\"middle\" x=\"781\" y=\"-14.8\" font-family=\"Times,serif\" font-size=\"14.00\">grad 0.0000</text>\n</g>\n<!-- 140065545894496&#45;&gt;140065545894352* -->\n<g id=\"edge7\" class=\"edge\">\n<title>140065545894496&#45;&gt;140065545894352*</title>\n<path fill=\"none\" stroke=\"black\" d=\"M822.29,-34.75C831.57,-36.37 840.52,-37.93 848.61,-39.33\"/>\n<polygon fill=\"black\" stroke=\"black\" points=\"848.22,-42.82 858.68,-41.09 849.42,-35.92 848.22,-42.82\"/>\n</g>\n<!-- 140065545894064 -->\n<g id=\"node5\" class=\"node\">\n<title>140065545894064</title>\n<polygon fill=\"none\" stroke=\"black\" points=\"2.5,-56.5 2.5,-92.5 187.5,-92.5 187.5,-56.5 2.5,-56.5\"/>\n<text text-anchor=\"middle\" x=\"14\" y=\"-70.8\" font-family=\"Times,serif\" font-size=\"14.00\">a</text>\n<polyline fill=\"none\" stroke=\"black\" points=\"25.5,-56.5 25.5,-92.5 \"/>\n<text text-anchor=\"middle\" x=\"65.5\" y=\"-70.8\" font-family=\"Times,serif\" font-size=\"14.00\">data 2.0000</text>\n<polyline fill=\"none\" stroke=\"black\" points=\"105.5,-56.5 105.5,-92.5 \"/>\n<text text-anchor=\"middle\" x=\"146.5\" y=\"-70.8\" font-family=\"Times,serif\" font-size=\"14.00\">grad 0.0000</text>\n</g>\n<!-- 140065545894256* -->\n<g id=\"node7\" class=\"node\">\n<title>140065545894256*</title>\n<ellipse fill=\"none\" stroke=\"black\" cx=\"253\" cy=\"-46.5\" rx=\"27\" ry=\"18\"/>\n<text text-anchor=\"middle\" x=\"253\" y=\"-42.8\" font-family=\"Times,serif\" font-size=\"14.00\">*</text>\n</g>\n<!-- 140065545894064&#45;&gt;140065545894256* -->\n<g id=\"edge9\" class=\"edge\">\n<title>140065545894064&#45;&gt;140065545894256*</title>\n<path fill=\"none\" stroke=\"black\" d=\"M187.65,-58.05C197.94,-56.2 207.91,-54.41 216.81,-52.82\"/>\n<polygon fill=\"black\" stroke=\"black\" points=\"217.48,-56.25 226.71,-51.04 216.25,-49.36 217.48,-56.25\"/>\n</g>\n<!-- 140065545894256 -->\n<g id=\"node6\" class=\"node\">\n<title>140065545894256</title>\n<polygon fill=\"none\" stroke=\"black\" points=\"317,-28.5 317,-64.5 507,-64.5 507,-28.5 317,-28.5\"/>\n<text text-anchor=\"middle\" x=\"328.5\" y=\"-42.8\" font-family=\"Times,serif\" font-size=\"14.00\">e</text>\n<polyline fill=\"none\" stroke=\"black\" points=\"340,-28.5 340,-64.5 \"/>\n<text text-anchor=\"middle\" x=\"382.5\" y=\"-42.8\" font-family=\"Times,serif\" font-size=\"14.00\">data &#45;6.0000</text>\n<polyline fill=\"none\" stroke=\"black\" points=\"425,-28.5 425,-64.5 \"/>\n<text text-anchor=\"middle\" x=\"466\" y=\"-42.8\" font-family=\"Times,serif\" font-size=\"14.00\">grad 0.0000</text>\n</g>\n<!-- 140065545894256&#45;&gt;140065545894448+ -->\n<g id=\"edge5\" class=\"edge\">\n<title>140065545894256&#45;&gt;140065545894448+</title>\n<path fill=\"none\" stroke=\"black\" d=\"M507.05,-62.67C516.78,-64.35 526.18,-65.96 534.62,-67.42\"/>\n<polygon fill=\"black\" stroke=\"black\" points=\"534.3,-70.91 544.75,-69.16 535.49,-64.01 534.3,-70.91\"/>\n</g>\n<!-- 140065545894256*&#45;&gt;140065545894256 -->\n<g id=\"edge2\" class=\"edge\">\n<title>140065545894256*&#45;&gt;140065545894256</title>\n<path fill=\"none\" stroke=\"black\" d=\"M280.28,-46.5C288.05,-46.5 297.08,-46.5 306.68,-46.5\"/>\n<polygon fill=\"black\" stroke=\"black\" points=\"306.88,-50 316.88,-46.5 306.88,-43 306.88,-50\"/>\n</g>\n<!-- 140065545893776 -->\n<g id=\"node8\" class=\"node\">\n<title>140065545893776</title>\n<polygon fill=\"none\" stroke=\"black\" points=\"0,-1.5 0,-37.5 190,-37.5 190,-1.5 0,-1.5\"/>\n<text text-anchor=\"middle\" x=\"11.5\" y=\"-15.8\" font-family=\"Times,serif\" font-size=\"14.00\">b</text>\n<polyline fill=\"none\" stroke=\"black\" points=\"23,-1.5 23,-37.5 \"/>\n<text text-anchor=\"middle\" x=\"65.5\" y=\"-15.8\" font-family=\"Times,serif\" font-size=\"14.00\">data &#45;3.0000</text>\n<polyline fill=\"none\" stroke=\"black\" points=\"108,-1.5 108,-37.5 \"/>\n<text text-anchor=\"middle\" x=\"149\" y=\"-15.8\" font-family=\"Times,serif\" font-size=\"14.00\">grad 0.0000</text>\n</g>\n<!-- 140065545893776&#45;&gt;140065545894256* -->\n<g id=\"edge4\" class=\"edge\">\n<title>140065545893776&#45;&gt;140065545894256*</title>\n<path fill=\"none\" stroke=\"black\" d=\"M190.34,-35.83C199.62,-37.44 208.58,-38.99 216.66,-40.38\"/>\n<polygon fill=\"black\" stroke=\"black\" points=\"216.27,-43.87 226.72,-42.12 217.46,-36.97 216.27,-43.87\"/>\n</g>\n<!-- 140065545894352 -->\n<g id=\"node9\" class=\"node\">\n<title>140065545894352</title>\n<polygon fill=\"none\" stroke=\"black\" points=\"948,-27.5 948,-63.5 1140,-63.5 1140,-27.5 948,-27.5\"/>\n<text text-anchor=\"middle\" x=\"960.5\" y=\"-41.8\" font-family=\"Times,serif\" font-size=\"14.00\">L</text>\n<polyline fill=\"none\" stroke=\"black\" points=\"973,-27.5 973,-63.5 \"/>\n<text text-anchor=\"middle\" x=\"1015.5\" y=\"-41.8\" font-family=\"Times,serif\" font-size=\"14.00\">data &#45;8.0000</text>\n<polyline fill=\"none\" stroke=\"black\" points=\"1058,-27.5 1058,-63.5 \"/>\n<text text-anchor=\"middle\" x=\"1099\" y=\"-41.8\" font-family=\"Times,serif\" font-size=\"14.00\">grad 0.0000</text>\n</g>\n<!-- 140065545894352*&#45;&gt;140065545894352 -->\n<g id=\"edge3\" class=\"edge\">\n<title>140065545894352*&#45;&gt;140065545894352</title>\n<path fill=\"none\" stroke=\"black\" d=\"M912.28,-45.5C919.78,-45.5 928.44,-45.5 937.67,-45.5\"/>\n<polygon fill=\"black\" stroke=\"black\" points=\"937.87,-49 947.87,-45.5 937.87,-42 937.87,-49\"/>\n</g>\n</g>\n</svg>\n"
          },
          "metadata": {},
          "execution_count": 53
        }
      ]
    },
    {
      "cell_type": "markdown",
      "source": [
        "`grad` -> shows the derivative of the variables [a,b,c,d..] w.r.t to the loss function `L`. \n",
        "\n",
        "`dL / da` "
      ],
      "metadata": {
        "id": "07RCtuFz5ltS"
      }
    }
  ]
}